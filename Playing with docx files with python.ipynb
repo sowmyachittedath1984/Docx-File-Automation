{
 "cells": [
  {
   "cell_type": "code",
   "execution_count": 1,
   "metadata": {},
   "outputs": [],
   "source": [
    "import os\n",
    "import re"
   ]
  },
  {
   "cell_type": "code",
   "execution_count": 2,
   "metadata": {},
   "outputs": [],
   "source": [
    "os.chdir('C://Users//LENOVO/Downloads/')"
   ]
  },
  {
   "cell_type": "code",
   "execution_count": 3,
   "metadata": {},
   "outputs": [
    {
     "data": {
      "text/plain": [
       "{'Assignment_', 'Programming_Assingment'}"
      ]
     },
     "execution_count": 3,
     "metadata": {},
     "output_type": "execute_result"
    }
   ],
   "source": [
    "workFile=[]\n",
    "nameFold = set()\n",
    "tempFold=[]\n",
    "for i in os.listdir():\n",
    "    if i.find('Assi') >= 0:\n",
    "        workFile.append(i)\n",
    "        tempFold.append(re.findall('([a-zA-Z_]+)', i.split('.')[0]))\n",
    "        for j in tempFold:\n",
    "            if len(j)>1:\n",
    "                foldName=\"\"\n",
    "                for k in j:\n",
    "                    foldName +=k\n",
    "            else:\n",
    "                for k in j:\n",
    "                    foldName = k\n",
    "            nameFold.add(foldName)\n",
    "            \n",
    "\n",
    "nameFold"
   ]
  },
  {
   "cell_type": "code",
   "execution_count": 4,
   "metadata": {},
   "outputs": [],
   "source": [
    "# Make folders\n",
    "\n",
    "import shutil\n",
    "\n",
    "for fold in nameFold:\n",
    "    os.mkdir(fold)\n",
    "    for file in workFile:\n",
    "        if file.find(fold) >= 0:\n",
    "            shutil.move(file,fold)"
   ]
  },
  {
   "cell_type": "code",
   "execution_count": 5,
   "metadata": {},
   "outputs": [],
   "source": [
    "# pip install python-docx\n",
    "\n",
    "import docx\n",
    "\n",
    "for folder in nameFold:\n",
    "    os.chdir('C://Users//LENOVO//Downloads/'+folder)\n",
    "    final_file = docx.Document()\n",
    "    for file in os.listdir():\n",
    "        final_file.add_paragraph(file)\n",
    "        final_file.add_paragraph(\"***************************\")\n",
    "        doc = docx.Document(file)\n",
    "        for para in doc.paragraphs:\n",
    "            final_file.add_paragraph(para.text)\n",
    "        final_file.add_paragraph(\"###########################################@@@@@@@@@@@@@@@@@@@@@@@@@@@@@@@@@\")\n",
    "    final_file.save(os.path.join('new_file.docx'))"
   ]
  },
  {
   "cell_type": "code",
   "execution_count": 6,
   "metadata": {},
   "outputs": [],
   "source": [
    "os.chdir('C://Users//LENOVO//Downloads/')"
   ]
  },
  {
   "cell_type": "code",
   "execution_count": null,
   "metadata": {},
   "outputs": [],
   "source": []
  },
  {
   "cell_type": "code",
   "execution_count": null,
   "metadata": {},
   "outputs": [],
   "source": []
  },
  {
   "cell_type": "code",
   "execution_count": null,
   "metadata": {},
   "outputs": [],
   "source": []
  },
  {
   "cell_type": "code",
   "execution_count": null,
   "metadata": {},
   "outputs": [],
   "source": []
  },
  {
   "cell_type": "code",
   "execution_count": null,
   "metadata": {},
   "outputs": [],
   "source": []
  },
  {
   "cell_type": "code",
   "execution_count": null,
   "metadata": {},
   "outputs": [],
   "source": []
  },
  {
   "cell_type": "code",
   "execution_count": null,
   "metadata": {},
   "outputs": [],
   "source": []
  },
  {
   "cell_type": "code",
   "execution_count": null,
   "metadata": {},
   "outputs": [],
   "source": []
  }
 ],
 "metadata": {
  "kernelspec": {
   "display_name": "Python 3",
   "language": "python",
   "name": "python3"
  },
  "language_info": {
   "codemirror_mode": {
    "name": "ipython",
    "version": 3
   },
   "file_extension": ".py",
   "mimetype": "text/x-python",
   "name": "python",
   "nbconvert_exporter": "python",
   "pygments_lexer": "ipython3",
   "version": "3.7.9"
  }
 },
 "nbformat": 4,
 "nbformat_minor": 4
}
